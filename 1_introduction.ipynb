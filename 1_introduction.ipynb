{
 "cells": [
  {
   "cell_type": "markdown",
   "metadata": {},
   "source": [
    "# Notebook 1: Introduction"
   ]
  },
  {
   "cell_type": "markdown",
   "metadata": {},
   "source": [
    "## Welcome to Python"
   ]
  },
  {
   "cell_type": "markdown",
   "metadata": {},
   "source": [
    "In this course we will focus exclusively on the Python programming language. There are a number of reasons for this:\n",
    "\n",
    "**Python is one of the easiest languages to learn, to write, and to read.** More than almost any other programming language,  Python code looks like pseudocode. Many aspects of the language help to enforce clarity. There is also a set of convensions, called the [PEP 8 Style Guide](https://www.python.org/dev/peps/pep-0008/), that most programmers have adopted to make their code as clear as possible.\n",
    "\n",
    "**Python is allows you to create new code fast**. It is designed to allow you to write programs as quickly and as painlessly as possible. One feature of Python that enables rapid prototyping is that it is an \"interpreted\" language: each line is executed by the Python interpreter one after the next. This is different than C, C++, or Java, which require that programs first be \"compiled\", i.e. translated in their entirety from code to byte code before they are run. \n",
    "\n",
    "**Python is very flexible.** With Python you can do image analysis, sequence analysis, exploratory data analysis, and create publication-quality figures. You can write small analysis scripts or write major software applications. You can use Python at the command line, within a Jupyter notebook (such as this), or within an interactive programming environment. I program almost exclusively in Python in my day-to-day work. \n",
    "\n",
    "**Python is well-supported.** There is an enormous user base for Python. This means that a simlpe Google search  can usually answer any Python programming question you have. There are also a large number of mature 3rd party packages for a wide variety of tasks including image analysis, numerical computation, machine learning, statistics, and graphics. \n",
    "\n",
    "**Python skills are highly valued.** There is great demand for people who know Python, and that demand is rapidly increasing. This is true in both academic resaerch and in industry. In particular, Python has become the de facto language of deep learning. "
   ]
  },
  {
   "cell_type": "markdown",
   "metadata": {},
   "source": [
    "The official python documentation page is https://www.python.org/. Lots of good documentation and tutorials can be found here. Another great resource for programmers is Stack Overflow at http://stackoverflow.com/. The best resource, however, is usually Google. Just google a question you have and the answer will likely be found in the first or second hit."
   ]
  },
  {
   "cell_type": "markdown",
   "metadata": {},
   "source": [
    "**Beware: There are 2 mutually incompatible versions of Python in widespread use: Python 2 and Python 3. We will use 3.7 throughout. **"
   ]
  },
  {
   "cell_type": "markdown",
   "metadata": {},
   "source": [
    "## Jupyter notebooks"
   ]
  },
  {
   "cell_type": "markdown",
   "metadata": {},
   "source": [
    "This is an **Jupyter notebook**. You can learn more about these on the Jupyter project website, http://jupyter.org/. Jupyter notebooks provide a conveneint interface to Python. They allow you to include fully functional Python code inside of a document that also contains markdown (i.e. text like this) and figures that show analysis results. This type of hybrid document provides a very powerful method of interactive data anlysis. I encourage taking advantage of this. In fact I use Jupyter notebooks for most of my data anlysis tasks. Only when I start writing production code do I switch over to more standard Python scripts. "
   ]
  },
  {
   "cell_type": "markdown",
   "metadata": {},
   "source": [
    "You can start a jupyter notebook by typing this at the command line an pressing enter:\n",
    "\n",
    "`jupyter notebook`\n",
    "\n"
   ]
  },
  {
   "cell_type": "markdown",
   "metadata": {},
   "source": [
    "## Markdown cells"
   ]
  },
  {
   "cell_type": "markdown",
   "metadata": {},
   "source": [
    "To create a markdown cell, Click the '+' button in the menue above. Then choose 'Markdown' from the drop-down menue."
   ]
  },
  {
   "cell_type": "markdown",
   "metadata": {},
   "source": [
    "Markdown is a simple yet powerful way of creating sylized text. For example, you can embed LaTeX code to create an equation:\n",
    "\n",
    "$$\\sin x =  \\sum_{n=0}^\\infty \\frac{(-1)^n x^{2n+1}}{(2n+1)!}$$\n",
    "\n",
    "You can add HTML, e.g. to embed images:\n",
    "\n",
    "<img src=\"cshl.jpg\" alt=\"Drawing\" style=\"width: 400px;\"/>\n",
    "\n",
    "Here is a [Markdown Cheat Sheet](https://github.com/adam-p/markdown-here/wiki/Markdown-Here-Cheatsheet) for reference."
   ]
  },
  {
   "cell_type": "markdown",
   "metadata": {},
   "source": [
    "## Code cells"
   ]
  },
  {
   "cell_type": "markdown",
   "metadata": {},
   "source": [
    "Code cells contain snippets of Python code that you can execute by pressing Shift+Enter. Here is a code cell illustrating this with a simple Hellow World program:"
   ]
  },
  {
   "cell_type": "code",
   "execution_count": 18,
   "metadata": {},
   "outputs": [
    {
     "name": "stdout",
     "output_type": "stream",
     "text": [
      "Hello World!\n"
     ]
    }
   ],
   "source": [
    "print(\"Hello World!\") # The Hello World program!"
   ]
  },
  {
   "cell_type": "markdown",
   "metadata": {},
   "source": [
    "All but the most trivial uses of python usually require packages that you, the user, must import. Some of the most common packages are `numpy`, `pandas`, and `matplotlib`. To import these, and to assign these packages useful aliases, execute the code below. Although it is not required, [PEP 8 recommends](https://www.python.org/dev/peps/pep-0008/#imports) that you do all package imports at the top of each Python document."
   ]
  },
  {
   "cell_type": "code",
   "execution_count": 26,
   "metadata": {
    "collapsed": true
   },
   "outputs": [],
   "source": [
    "# First code cell\n",
    "import numpy as np               # numpy is the standard numerical computing package\n",
    "import pandas as pd              # pandas is the standard pacakge for working with dataframes\n",
    "import matplotlib.pyplot as plt  # matplotlib is the standard plotting package"
   ]
  },
  {
   "cell_type": "markdown",
   "metadata": {},
   "source": [
    "Jupyter notebooks also have a variety of [\"magic commands\"](https://ipython.readthedocs.io/en/stable/interactive/magics.html). These are special built-in commands that being with a `%` sign. The one below causes matplolib (the primary Python plotting package, imported above) to insert plots into the notebook instead of in separate windows. I usually include this right under my imports."
   ]
  },
  {
   "cell_type": "code",
   "execution_count": 27,
   "metadata": {
    "collapsed": true
   },
   "outputs": [],
   "source": [
    "%matplotlib inline"
   ]
  },
  {
   "cell_type": "markdown",
   "metadata": {},
   "source": [
    "Inline plotting is, I would argue, one of the most important features of Jupyter notebooks. It allows you to see Python code AND the graphical output of that code in the same place. For example,"
   ]
  },
  {
   "cell_type": "code",
   "execution_count": 65,
   "metadata": {},
   "outputs": [
    {
     "data": {
      "text/plain": [
       "[<matplotlib.lines.Line2D at 0x11bed93c8>]"
      ]
     },
     "execution_count": 65,
     "metadata": {},
     "output_type": "execute_result"
    },
    {
     "data": {
      "image/png": "[encoded data removed]",
      "text/plain": [
       "<Figure size 432x288 with 1 Axes>"
      ]
     },
     "metadata": {},
     "output_type": "display_data"
    }
   ],
   "source": [
    "x = np.arange(-10,10,0.01)   # Creates an array of numbers from -10 to 10, with step size 0.01\n",
    "y = np.sin(x)                # Computes the sign of these numbers\n",
    "plt.plot(x,y)                # Plots y vs. x"
   ]
  },
  {
   "cell_type": "markdown",
   "metadata": {},
   "source": [
    "## Accessing the command line"
   ]
  },
  {
   "cell_type": "markdown",
   "metadata": {},
   "source": [
    "Warning: the commands in this section will only work in a POSIX operating systems such as Mac OS X, Linux, and Unix. They will not work in Windows."
   ]
  },
  {
   "cell_type": "code",
   "execution_count": 42,
   "metadata": {},
   "outputs": [
    {
     "name": "stdout",
     "output_type": "stream",
     "text": [
      "total 28960\r\n",
      "drwxr-xr-x  25 jkinney  staff   800B Jun 18 11:07 \u001b[1m\u001b[34m.\u001b[m\u001b[m\r\n",
      "drwxr-xr-x  34 jkinney  staff   1.1K Jun 18 07:13 \u001b[1m\u001b[34m..\u001b[m\u001b[m\r\n",
      "drwxr-xr-x  15 jkinney  staff   480B Jun 18 07:15 \u001b[1m\u001b[34m.git\u001b[m\u001b[m\r\n",
      "drwxr-xr-x   5 jkinney  staff   160B Jun 18 07:14 \u001b[1m\u001b[34m.idea\u001b[m\u001b[m\r\n",
      "drwxr-xr-x   3 jkinney  staff    96B Jun 12 13:56 \u001b[1m\u001b[34m.ipynb_checkpoints\u001b[m\u001b[m\r\n",
      "-rw-r--r--   1 jkinney  staff    36K Jun 18 11:07 1_introduction.ipynb\r\n",
      "-rwxr-xr-x@  1 jkinney  staff    17K Jun 11 13:40 \u001b[1m\u001b[32m2_datatypes.ipynb\u001b[m\u001b[m\r\n",
      "-rwxr-xr-x@  1 jkinney  staff    15K Jun 11 13:40 \u001b[1m\u001b[32m3_flowcontrol.ipynb\u001b[m\u001b[m\r\n",
      "-rw-------@  1 jkinney  staff    12K Jun 11 13:40 4_tfanalysis.ipynb\r\n",
      "-rw-r--r--   1 jkinney  staff    28K Jun 11 13:40 5_other_resources.ipynb\r\n",
      "-rw-r--r--   1 jkinney  staff   704K Jun 12 14:15 6_skimage.ipynb\r\n",
      "-rw-r--r--   1 jkinney  staff    98K Jun 12 14:29 7_sklearn.ipynb\r\n",
      "-rw-r--r--@  1 jkinney  staff   3.7K Jun 18 08:31 README.md\r\n",
      "-rw-r--r--@  1 jkinney  staff   802K Jun 11 13:40 binding_site_db.txt\r\n",
      "-rw-r--r--@  1 jkinney  staff    17K Jun 11 13:40 crp_matrix.png\r\n",
      "-rw-r--r--@  1 jkinney  staff   107K Jun 11 13:40 cshl.jpg\r\n",
      "drwxr-xr-x   4 jkinney  staff   128B Jun 12 14:12 \u001b[1m\u001b[34mdata\u001b[m\u001b[m\r\n",
      "-rwxr-xr-x   1 jkinney  staff    50B Jun 11 13:40 \u001b[1m\u001b[32mhello_world.py\u001b[m\u001b[m\r\n",
      "drwxr-xr-x   5 jkinney  staff   160B Jun 17 16:22 \u001b[1m\u001b[34mlecture_5\u001b[m\u001b[m\r\n",
      "drwxr-xr-x   6 jkinney  staff   192B Jun 17 16:22 \u001b[1m\u001b[34mlecture_8\u001b[m\u001b[m\r\n",
      "-rwxr-xr-x   1 jkinney  staff   327B Jun 17 16:22 \u001b[1m\u001b[32mmac_install.sh\u001b[m\u001b[m\r\n",
      "-rw-r--r--@  1 jkinney  staff   531K Jun 18 10:22 macrophage.mp4\r\n",
      "-rw-r--r--   1 jkinney  staff   140B Jun 17 16:22 requirements.txt\r\n",
      "-rw-r--r--   1 jkinney  staff   130B Jun 17 16:22 requirements_windows.txt\r\n",
      "-rw-r--r--@  1 jkinney  staff    12M Jun 11 13:40 s288c.fa\r\n"
     ]
    }
   ],
   "source": [
    "# List the files in the current directory (UNIX only)\n",
    "!ls -lah"
   ]
  },
  {
   "cell_type": "code",
   "execution_count": 52,
   "metadata": {},
   "outputs": [
    {
     "name": "stdout",
     "output_type": "stream",
     "text": [
      "print('Hello World!')  # The Hello World program!\r\n"
     ]
    }
   ],
   "source": [
    "# Display the contents of a file \n",
    "!cat hello_world.py"
   ]
  },
  {
   "cell_type": "code",
   "execution_count": 51,
   "metadata": {},
   "outputs": [
    {
     "name": "stdout",
     "output_type": "stream",
     "text": [
      "Hello World!\r\n"
     ]
    }
   ],
   "source": [
    "# Run a Python script\n",
    "!python hello_world.py"
   ]
  },
  {
   "cell_type": "markdown",
   "metadata": {},
   "source": [
    "You can even install Python packages from within a Python notebook! To do this, use the `pip` command, which installs packages from [PyPI](https://pypi.org/). For example, the command below installs [`logomaker`](https://logomaker.readthedocs.io/en/latest/), a Python package that my lab recently developed. "
   ]
  },
  {
   "cell_type": "code",
   "execution_count": 47,
   "metadata": {},
   "outputs": [
    {
     "name": "stdout",
     "output_type": "stream",
     "text": [
      "Requirement already satisfied: logomaker in /Users/jkinney/anaconda3/lib/python3.6/site-packages (0.8)\r\n",
      "Requirement already satisfied: numpy in /Users/jkinney/anaconda3/lib/python3.6/site-packages (from logomaker) (1.16.2)\r\n",
      "Requirement already satisfied: pandas in /Users/jkinney/anaconda3/lib/python3.6/site-packages (from logomaker) (0.24.0)\r\n",
      "Requirement already satisfied: matplotlib in /Users/jkinney/anaconda3/lib/python3.6/site-packages (from logomaker) (3.0.3)\r\n",
      "Requirement already satisfied: python-dateutil>=2.5.0 in /Users/jkinney/anaconda3/lib/python3.6/site-packages (from pandas->logomaker) (2.7.2)\r\n",
      "Requirement already satisfied: pytz>=2011k in /Users/jkinney/anaconda3/lib/python3.6/site-packages (from pandas->logomaker) (2018.4)\r\n",
      "Requirement already satisfied: cycler>=0.10 in /Users/jkinney/anaconda3/lib/python3.6/site-packages (from matplotlib->logomaker) (0.10.0)\r\n",
      "Requirement already satisfied: kiwisolver>=1.0.1 in /Users/jkinney/anaconda3/lib/python3.6/site-packages (from matplotlib->logomaker) (1.0.1)\r\n",
      "Requirement already satisfied: pyparsing!=2.0.4,!=2.1.2,!=2.1.6,>=2.0.1 in /Users/jkinney/anaconda3/lib/python3.6/site-packages (from matplotlib->logomaker) (2.2.0)\r\n",
      "Requirement already satisfied: six>=1.5 in /Users/jkinney/anaconda3/lib/python3.6/site-packages (from python-dateutil>=2.5.0->pandas->logomaker) (1.11.0)\r\n",
      "Requirement already satisfied: setuptools in /Users/jkinney/anaconda3/lib/python3.6/site-packages (from kiwisolver>=1.0.1->matplotlib->logomaker) (39.0.1)\r\n"
     ]
    }
   ],
   "source": [
    "# Install a 3rd party Python packge\n",
    "!pip install logomaker"
   ]
  },
  {
   "cell_type": "markdown",
   "metadata": {},
   "source": [
    "In this course we will largely stay away from using the POSIX commandline, but using the command line is still quite important to learn if you don't yet know here. Here is one tutorial on this subject: http://www.ee.surrey.ac.uk/Teaching/Unix/. And here is a cheat sheet: http://web.cs.ucla.edu/~miryung/teaching/EE461L-Spring2012/labs/posix.html"
   ]
  },
  {
   "cell_type": "markdown",
   "metadata": {},
   "source": [
    "## Exercises"
   ]
  },
  {
   "cell_type": "markdown",
   "metadata": {},
   "source": [
    "This course will include a variety of exercises to increase your Python skills. Note that the knowledge needed to complete each exercise will NOT necessarily have been presented or discussed. If you find yourself at sea, **the first thing you should do is Google your question.** This is how 99% of programming is done."
   ]
  },
  {
   "cell_type": "markdown",
   "metadata": {},
   "source": [
    "E1: Create a markdown cell containing a bulleted list, a numbred list, and a table."
   ]
  },
  {
   "cell_type": "code",
   "execution_count": 59,
   "metadata": {
    "collapsed": true
   },
   "outputs": [],
   "source": [
    "# Write answer here"
   ]
  },
  {
   "cell_type": "markdown",
   "metadata": {},
   "source": [
    "E2: Plot $y = x^2$ and $y = e^x$ on the same plot, with $x$ ranging from -3 to 3."
   ]
  },
  {
   "cell_type": "code",
   "execution_count": 60,
   "metadata": {
    "collapsed": true
   },
   "outputs": [],
   "source": [
    "# Write answer here"
   ]
  },
  {
   "cell_type": "markdown",
   "metadata": {},
   "source": [
    "E3: Using the command line, print the first 30 lines of the file `binding_site_db.txt`"
   ]
  },
  {
   "cell_type": "code",
   "execution_count": 61,
   "metadata": {
    "collapsed": true
   },
   "outputs": [],
   "source": [
    "# Write answer here"
   ]
  }
 ],
 "metadata": {
  "kernelspec": {
   "display_name": "anaconda_kernel",
   "language": "python",
   "name": "anaconda_kernel"
  },
  "language_info": {
   "codemirror_mode": {
    "name": "ipython",
    "version": 3
   },
   "file_extension": ".py",
   "mimetype": "text/x-python",
   "name": "python",
   "nbconvert_exporter": "python",
   "pygments_lexer": "ipython3",
   "version": "3.6.3"
  }
 },
 "nbformat": 4,
 "nbformat_minor": 1
}
